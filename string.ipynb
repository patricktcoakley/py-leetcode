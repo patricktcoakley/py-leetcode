{
 "cells": [
  {
   "cell_type": "code",
   "execution_count": null,
   "outputs": [],
   "source": [
    "# Imports\n",
    "\n",
    "from collections import Counter"
   ],
   "metadata": {
    "collapsed": false
   }
  },
  {
   "cell_type": "code",
   "execution_count": 29,
   "metadata": {
    "collapsed": true,
    "ExecuteTime": {
     "end_time": "2023-07-04T20:23:41.019996Z",
     "start_time": "2023-07-04T20:23:41.016679Z"
    }
   },
   "outputs": [],
   "source": [
    "# 13. Roman to Integer\n",
    "\n",
    "def roman_to_int(s: str) -> int:\n",
    "    def to_int(c: str) -> int:\n",
    "        match c:\n",
    "            case 'I':\n",
    "                return 1\n",
    "            case 'V':\n",
    "                return 5\n",
    "            case 'X':\n",
    "                return 10\n",
    "            case 'L':\n",
    "                return 50\n",
    "            case 'C':\n",
    "                return 100\n",
    "            case 'D':\n",
    "                return 500\n",
    "            case 'M':\n",
    "                return 1000\n",
    "            case _:\n",
    "                raise Exception(\"Invalid input\")\n",
    "\n",
    "    total = to_int(s[-1])\n",
    "    for i in range(1, len(s)):\n",
    "        prev, curr = to_int(s[i - 1]), to_int(s[i])\n",
    "        if prev >= curr:\n",
    "            total += prev\n",
    "        else:\n",
    "            total -= prev\n",
    "    return total\n",
    "\n",
    "\n",
    "assert roman_to_int('III') == 3\n",
    "assert roman_to_int('LVIII') == 58\n",
    "assert roman_to_int('MCMXCIV') == 1994\n"
   ]
  },
  {
   "cell_type": "code",
   "execution_count": 32,
   "outputs": [],
   "source": [
    "# 14. Longest Common Prefix\n",
    "\n",
    "def longest_common_prefix(strs: list[str]) -> str:\n",
    "    prefix = ''\n",
    "    strs.sort(key=lambda x: len(x))\n",
    "    for i, v in enumerate(strs[0]):\n",
    "        for s in strs[1:]:\n",
    "            if s[i] != v:\n",
    "                return prefix\n",
    "        prefix += v\n",
    "    return prefix\n",
    "\n",
    "\n",
    "assert longest_common_prefix(['flower', 'flow', 'flight']) == 'fl'\n",
    "assert longest_common_prefix(['dog', 'racecar', 'car']) == ''\n"
   ],
   "metadata": {
    "collapsed": false,
    "ExecuteTime": {
     "end_time": "2023-07-04T20:29:22.875724Z",
     "start_time": "2023-07-04T20:29:22.840446Z"
    }
   }
  },
  {
   "cell_type": "code",
   "execution_count": 34,
   "outputs": [],
   "source": [
    "# 125. Valid Palindrome\n",
    "\n",
    "def is_palindrome(s: str) -> bool:\n",
    "    left, right = 0, len(s) - 1\n",
    "\n",
    "    while left <= right:\n",
    "        left_val, right_val = s[left], s[right]\n",
    "        if not left_val.isalnum():\n",
    "            left += 1\n",
    "        elif not right_val.isalnum():\n",
    "            right -= 1\n",
    "        elif left_val.upper() != right_val.upper():\n",
    "            return False\n",
    "        else:\n",
    "            left += 1\n",
    "            right -= 1\n",
    "    return True\n",
    "\n",
    "\n",
    "assert is_palindrome('A man, a plan, a canal: Panama') == True\n",
    "assert is_palindrome('race a car') == False\n",
    "assert is_palindrome(' ') == True\n"
   ],
   "metadata": {
    "collapsed": false,
    "ExecuteTime": {
     "end_time": "2023-07-04T20:32:17.208703Z",
     "start_time": "2023-07-04T20:32:17.181366Z"
    }
   }
  },
  {
   "cell_type": "code",
   "execution_count": 39,
   "outputs": [],
   "source": [
    "# 383. Ransom Note\n",
    "\n",
    "def can_construct(ransom_note: str, magazine: str) -> bool:\n",
    "    available_letters = Counter(magazine)\n",
    "    for letter in ransom_note:\n",
    "        if available_letters.get(letter, 0) <= 0:\n",
    "            return False\n",
    "        available_letters[letter] -= 1\n",
    "    return True\n",
    "\n",
    "\n",
    "assert can_construct(\"a\", \"b\") == False\n",
    "assert can_construct(\"aa\", \"ab\") == False\n",
    "assert can_construct(\"aa\", \"aab\") == True\n"
   ],
   "metadata": {
    "collapsed": false,
    "ExecuteTime": {
     "end_time": "2023-07-05T14:54:30.271775Z",
     "start_time": "2023-07-05T14:54:30.197178Z"
    }
   }
  }
 ],
 "metadata": {
  "kernelspec": {
   "display_name": "Python 3",
   "language": "python",
   "name": "python3"
  },
  "language_info": {
   "codemirror_mode": {
    "name": "ipython",
    "version": 2
   },
   "file_extension": ".py",
   "mimetype": "text/x-python",
   "name": "python",
   "nbconvert_exporter": "python",
   "pygments_lexer": "ipython2",
   "version": "2.7.6"
  }
 },
 "nbformat": 4,
 "nbformat_minor": 0
}
