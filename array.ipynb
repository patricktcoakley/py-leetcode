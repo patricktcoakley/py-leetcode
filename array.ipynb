{
 "cells": [
  {
   "cell_type": "code",
   "execution_count": 1,
   "outputs": [],
   "source": [
    "# Imports\n",
    "\n",
    "from collections import Counter\n",
    "from collections import namedtuple\n",
    "from collections import defaultdict\n",
    "from collections import deque\n"
   ],
   "metadata": {
    "collapsed": false,
    "ExecuteTime": {
     "end_time": "2023-07-11T15:06:32.116789Z",
     "start_time": "2023-07-11T15:06:32.113867Z"
    }
   }
  },
  {
   "cell_type": "code",
   "execution_count": 59,
   "metadata": {
    "collapsed": true,
    "ExecuteTime": {
     "end_time": "2023-07-09T20:32:21.586487Z",
     "start_time": "2023-07-09T20:32:21.583817Z"
    }
   },
   "outputs": [],
   "source": [
    "# 169. Majority Element\n",
    "\n",
    "def majority_element(nums: list[int]) -> int:\n",
    "    c = Counter(nums)\n",
    "    return max(c, key=c.get)\n",
    "\n",
    "\n",
    "assert majority_element([3, 2, 3]) == 3\n",
    "assert majority_element([2, 2, 1, 1, 1, 2, 2]) == 2\n"
   ]
  },
  {
   "cell_type": "code",
   "execution_count": 60,
   "metadata": {
    "collapsed": false,
    "ExecuteTime": {
     "end_time": "2023-07-09T20:32:21.589063Z",
     "start_time": "2023-07-09T20:32:21.587771Z"
    }
   },
   "outputs": [],
   "source": [
    "# 88. Merge Sorted Array\n",
    "\n",
    "def merge(nums1: list[int], m: int, nums2: list[int], n: int):\n",
    "    \"\"\"\n",
    "    Do not return anything, modify nums1 in-place instead.\n",
    "    \"\"\"\n",
    "    last = m + n - 1\n",
    "    i = m - 1\n",
    "    j = n - 1\n",
    "\n",
    "    while j >= 0:\n",
    "        if i >= 0 and nums1[i] >= nums2[j]:\n",
    "            nums1[last] = nums1[i]\n",
    "            i -= 1\n",
    "        else:\n",
    "            nums1[last] = nums2[j]\n",
    "            j -= 1\n",
    "        last -= 1\n",
    "\n",
    "\n",
    "Example = namedtuple(\"Example\", \"nums1 m nums2 n expected\")\n",
    "\n",
    "example1 = Example([1, 2, 3, 0, 0, 0], 3, [2, 5, 6], 3, [1, 2, 2, 3, 5, 6])\n",
    "merge(example1.nums1, example1.m, example1.nums2, example1.n)\n",
    "assert example1.nums1 == example1.expected\n",
    "\n",
    "example2 = Example([1], 1, [], 0, [1])\n",
    "merge(example2.nums1, example2.m, example2.nums2, example2.n)\n",
    "assert example2.nums1 == example2.expected\n",
    "\n",
    "example3 = Example([0], 0, [1], 1, [1])\n",
    "merge(example3.nums1, example3.m, example3.nums2, example3.n)\n",
    "assert example3.nums1 == example3.expected"
   ]
  },
  {
   "cell_type": "code",
   "execution_count": 61,
   "metadata": {
    "collapsed": false,
    "ExecuteTime": {
     "end_time": "2023-07-09T20:32:21.592155Z",
     "start_time": "2023-07-09T20:32:21.590972Z"
    }
   },
   "outputs": [],
   "source": [
    "# 121. Best Time to Buy and Sell Stock\n",
    "\n",
    "def max_profit(prices: list[int]) -> int:\n",
    "    profit = 0\n",
    "    lowest = prices[0]\n",
    "    for price in prices:\n",
    "        lowest = min(lowest, price)\n",
    "        profit = max(profit, price - lowest)\n",
    "    return profit\n",
    "\n",
    "\n",
    "assert max_profit([7, 1, 5, 3, 6, 4]) == 5\n",
    "assert max_profit([7, 6, 4, 3, 1]) == 0\n"
   ]
  },
  {
   "cell_type": "code",
   "execution_count": 62,
   "metadata": {
    "collapsed": false,
    "ExecuteTime": {
     "end_time": "2023-07-09T20:32:21.594583Z",
     "start_time": "2023-07-09T20:32:21.593674Z"
    }
   },
   "outputs": [],
   "source": [
    "# 122. Best Time to Buy and Sell Stock II\n",
    "\n",
    "def max_profit2(prices: list[int]) -> int:\n",
    "    profit = 0\n",
    "    for i in range(1, len(prices)):\n",
    "        if prices[i] > prices[i - 1]:\n",
    "            profit += prices[i] - prices[i - 1]\n",
    "    return profit\n",
    "\n",
    "\n",
    "assert max_profit2([7, 1, 5, 3, 6, 4]) == 7\n",
    "assert max_profit2([1, 2, 3, 4, 5]) == 4\n",
    "assert max_profit2([7, 6, 4, 3, 1]) == 0"
   ]
  },
  {
   "cell_type": "code",
   "execution_count": 63,
   "metadata": {
    "collapsed": false,
    "ExecuteTime": {
     "end_time": "2023-07-09T20:32:21.598072Z",
     "start_time": "2023-07-09T20:32:21.596844Z"
    }
   },
   "outputs": [],
   "source": [
    "# 189. Rotate Array\n",
    "\n",
    "def rotate(nums: list[int], k: int):\n",
    "    \"\"\"\n",
    "    Do not return anything, modify nums in-place instead.\n",
    "    \"\"\"\n",
    "\n",
    "    def reverse(left, right):\n",
    "        while left < right:\n",
    "            nums[left], nums[right] = nums[right], nums[left]\n",
    "            left += 1\n",
    "            right -= 1\n",
    "\n",
    "    n = len(nums)\n",
    "    k %= n\n",
    "\n",
    "    reverse(0, n - 1)\n",
    "    reverse(0, k - 1)\n",
    "    reverse(k, n - 1)\n",
    "\n",
    "\n",
    "Example = namedtuple(\"Example\", \"nums k expected\")\n",
    "\n",
    "example1 = Example([1, 2, 3, 4, 5, 6, 7], 3, [5, 6, 7, 1, 2, 3, 4])\n",
    "rotate(example1.nums, example1.k)\n",
    "assert example1.nums == example1.expected\n",
    "\n",
    "example2 = Example([-1, -100, 3, 99], 2, [3, 99, -1, -100])\n",
    "rotate(example2.nums, example2.k)\n",
    "assert example2.nums == example2.expected\n"
   ]
  },
  {
   "cell_type": "code",
   "execution_count": 64,
   "outputs": [],
   "source": [
    "# 36. Valid Sudoku\n",
    "\n",
    "def is_valid_sudoku(board: list[list[str]]) -> bool:\n",
    "    row_visited = set[str]()\n",
    "    col_visited = set[str]()\n",
    "    box_visited = set[str]()\n",
    "\n",
    "    for row in range(9):\n",
    "        for col in range(9):\n",
    "            if (row_val := board[row][col]) and (row_val != '.'):\n",
    "                if row_val in row_visited:\n",
    "                    return False\n",
    "                row_visited.add(row_val)\n",
    "\n",
    "            if (col_val := board[col][row]) and (col_val != '.'):\n",
    "                if col_val in col_visited:\n",
    "                    return False\n",
    "                col_visited.add(col_val)\n",
    "        row_visited.clear()\n",
    "        col_visited.clear()\n",
    "    for row in range(0, 9, 3):\n",
    "        for col in range(0, 9, 3):\n",
    "            for box_row in range(row, row + 3):\n",
    "                for box_col in range(col, col + 3):\n",
    "                    if (box_val := board[box_row][box_col]) and (box_val != '.'):\n",
    "                        if box_val in box_visited:\n",
    "                            return False\n",
    "                        box_visited.add(box_val)\n",
    "            box_visited.clear()\n",
    "    return True\n",
    "\n",
    "\n",
    "assert is_valid_sudoku([[\"5\", \"3\", \".\", \".\", \"7\", \".\", \".\", \".\", \".\"]\n",
    "                           , [\"6\", \".\", \".\", \"1\", \"9\", \"5\", \".\", \".\", \".\"]\n",
    "                           , [\".\", \"9\", \"8\", \".\", \".\", \".\", \".\", \"6\", \".\"]\n",
    "                           , [\"8\", \".\", \".\", \".\", \"6\", \".\", \".\", \".\", \"3\"]\n",
    "                           , [\"4\", \".\", \".\", \"8\", \".\", \"3\", \".\", \".\", \"1\"]\n",
    "                           , [\"7\", \".\", \".\", \".\", \"2\", \".\", \".\", \".\", \"6\"]\n",
    "                           , [\".\", \"6\", \".\", \".\", \".\", \".\", \"2\", \"8\", \".\"]\n",
    "                           , [\".\", \".\", \".\", \"4\", \"1\", \"9\", \".\", \".\", \"5\"]\n",
    "                           , [\".\", \".\", \".\", \".\", \"8\", \".\", \".\", \"7\", \"9\"]]) == True\n",
    "\n",
    "assert is_valid_sudoku([[\"8\", \"3\", \".\", \".\", \"7\", \".\", \".\", \".\", \".\"]\n",
    "                           , [\"6\", \".\", \".\", \"1\", \"9\", \"5\", \".\", \".\", \".\"]\n",
    "                           , [\".\", \"9\", \"8\", \".\", \".\", \".\", \".\", \"6\", \".\"]\n",
    "                           , [\"8\", \".\", \".\", \".\", \"6\", \".\", \".\", \".\", \"3\"]\n",
    "                           , [\"4\", \".\", \".\", \"8\", \".\", \"3\", \".\", \".\", \"1\"]\n",
    "                           , [\"7\", \".\", \".\", \".\", \"2\", \".\", \".\", \".\", \"6\"]\n",
    "                           , [\".\", \"6\", \".\", \".\", \".\", \".\", \"2\", \"8\", \".\"]\n",
    "                           , [\".\", \".\", \".\", \"4\", \"1\", \"9\", \".\", \".\", \"5\"]\n",
    "                           , [\".\", \".\", \".\", \".\", \"8\", \".\", \".\", \"7\", \"9\"]]) == False\n"
   ],
   "metadata": {
    "collapsed": false,
    "ExecuteTime": {
     "end_time": "2023-07-09T20:32:21.606157Z",
     "start_time": "2023-07-09T20:32:21.602807Z"
    }
   }
  },
  {
   "cell_type": "code",
   "execution_count": 65,
   "outputs": [],
   "source": [
    "# 48. Rotate Image\n",
    "\n",
    "def rotate_image(matrix: list[list[int]]):\n",
    "    \"\"\"\n",
    "    Do not return anything, modify matrix in-place instead.\n",
    "    \"\"\"\n",
    "    n = len(matrix)\n",
    "    for i in range(n):\n",
    "        for j in range(i, n):\n",
    "            matrix[i][j], matrix[j][i] = matrix[j][i], matrix[i][j]\n",
    "    for row in matrix:\n",
    "        row.reverse()\n",
    "\n",
    "\n",
    "Example = namedtuple(\"Example\", \"matrix expected\")\n",
    "\n",
    "example1 = Example([[1, 2, 3], [4, 5, 6], [7, 8, 9]],\n",
    "                   [[7, 4, 1], [8, 5, 2], [9, 6, 3]])\n",
    "rotate_image(example1.matrix)\n",
    "assert example1.matrix == example1.expected\n",
    "\n",
    "example2 = Example([[5, 1, 9, 11], [2, 4, 8, 10], [13, 3, 6, 7], [15, 14, 12, 16]],\n",
    "                   [[15, 13, 2, 5], [14, 3, 4, 1], [12, 6, 8, 9], [16, 7, 10, 11]])\n",
    "rotate_image(example2.matrix)\n",
    "assert example2.matrix == example2.expected\n"
   ],
   "metadata": {
    "collapsed": false,
    "ExecuteTime": {
     "end_time": "2023-07-09T20:32:21.607996Z",
     "start_time": "2023-07-09T20:32:21.606793Z"
    }
   }
  },
  {
   "cell_type": "code",
   "execution_count": 66,
   "outputs": [],
   "source": [
    "# 80. Remove Duplicates from Sorted Array II\n",
    "\n",
    "def remove_duplicates(nums: list[int]) -> int:\n",
    "    n = len(nums)\n",
    "\n",
    "    if n < 2:\n",
    "        return n\n",
    "\n",
    "    prev = 2\n",
    "\n",
    "    for curr in range(2, n):\n",
    "        if nums[prev - 2] != nums[curr]:\n",
    "            nums[prev] = nums[curr]\n",
    "            prev += 1\n",
    "        curr += 1\n",
    "    return prev\n",
    "\n",
    "\n",
    "assert remove_duplicates([1,1,1,2,2,3]) == 5\n",
    "assert remove_duplicates([0,0,1,1,1,1,2,3,3]) == 7\n"
   ],
   "metadata": {
    "collapsed": false,
    "ExecuteTime": {
     "end_time": "2023-07-09T20:32:21.611039Z",
     "start_time": "2023-07-09T20:32:21.609613Z"
    }
   }
  },
  {
   "cell_type": "code",
   "execution_count": 67,
   "outputs": [],
   "source": [
    "# 56. Merge Intervals\n",
    "\n",
    "def merge(intervals: list[list[int]]) -> list[list[int]]:\n",
    "    merged = []\n",
    "    intervals.sort(key=lambda x: x[0])\n",
    "    for interval in intervals:\n",
    "        if not merged or merged[-1][1] < interval[0]:\n",
    "            merged.append(interval)\n",
    "        else:\n",
    "            merged[-1][1] = max(merged[-1][1], interval[1])\n",
    "\n",
    "    return merged\n",
    "\n",
    "assert merge([[1,3],[2,6],[8,10],[15,18]]) == [[1,6],[8,10],[15,18]]\n",
    "assert merge([[1,4],[4,5]]) == [[1,5]]\n"
   ],
   "metadata": {
    "collapsed": false,
    "ExecuteTime": {
     "end_time": "2023-07-09T20:32:21.615539Z",
     "start_time": "2023-07-09T20:32:21.614081Z"
    }
   }
  },
  {
   "cell_type": "code",
   "execution_count": 68,
   "outputs": [],
   "source": [
    "# 153. Find Minimum in Rotated Sorted Array\n",
    "\n",
    "def find_min(nums: list[int]) -> int:\n",
    "    left, right = 0, len(nums) - 1\n",
    "    out = nums[right]\n",
    "    while left < right:\n",
    "        mid = left + (right - left) // 2\n",
    "        if nums[mid] > nums[right]:\n",
    "            left = mid + 1\n",
    "        else:\n",
    "            right = mid\n",
    "        out = min(out, nums[mid])\n",
    "    return out\n",
    "\n",
    "assert find_min([3,4,5,1,2]) == 1\n",
    "assert find_min([4,5,6,7,0,1,2]) == 0\n",
    "assert find_min([11,13,15,17]) == 11\n"
   ],
   "metadata": {
    "collapsed": false,
    "ExecuteTime": {
     "end_time": "2023-07-09T20:32:21.618681Z",
     "start_time": "2023-07-09T20:32:21.617093Z"
    }
   }
  },
  {
   "cell_type": "code",
   "execution_count": 69,
   "outputs": [],
   "source": [
    "# 743. Network Delay Time\n",
    "\n",
    "def network_delay_time(times: list[list[int]], n: int, k: int) -> int:\n",
    "    d = defaultdict(list)\n",
    "    for node, neighbor, neighbor_time in times:\n",
    "        d[node].append((neighbor, neighbor_time))\n",
    "\n",
    "    q = deque()\n",
    "    q.append((k, 0))\n",
    "    visited = defaultdict(lambda: float('inf'))\n",
    "    while q:\n",
    "        top, top_time = q.popleft()\n",
    "        if visited[top] > top_time:\n",
    "            visited[top] = top_time\n",
    "            for neighbor, neighbor_time in d[top]:\n",
    "                    q.append((neighbor, top_time + neighbor_time))\n",
    "    return -1 if len(visited) != n else max(visited.values())\n",
    "\n",
    "\n",
    "assert network_delay_time([[2,1,1],[2,3,1],[3,4,1]], 4, 2) == 2\n",
    "assert network_delay_time([[1,2,1]], 2, 1) == 1\n",
    "assert network_delay_time([[1,2,1]], 2, 2) == -1\n"
   ],
   "metadata": {
    "collapsed": false,
    "ExecuteTime": {
     "end_time": "2023-07-09T20:32:21.623100Z",
     "start_time": "2023-07-09T20:32:21.620795Z"
    }
   }
  },
  {
   "cell_type": "code",
   "execution_count": 6,
   "outputs": [],
   "source": [
    "# 219. Contains Duplicate II\n",
    "\n",
    "def contains_nearby_duplicate(nums: list[int], k: int) -> bool:\n",
    "    d = {}\n",
    "\n",
    "    for i,v in enumerate(nums):\n",
    "        if v in d and abs(d[v] - i) <= k:\n",
    "            return True\n",
    "        d[v] = i\n",
    "    return False\n",
    "\n",
    "assert contains_nearby_duplicate([1,2,3,1], 3) == True\n",
    "assert contains_nearby_duplicate([1,0,1,1], 1) == True\n",
    "assert contains_nearby_duplicate([1,2,3,1,2,3], 2) == False\n"
   ],
   "metadata": {
    "collapsed": false,
    "ExecuteTime": {
     "end_time": "2023-07-11T15:09:00.519645Z",
     "start_time": "2023-07-11T15:09:00.514173Z"
    }
   }
  },
  {
   "cell_type": "code",
   "execution_count": null,
   "outputs": [],
   "source": [],
   "metadata": {
    "collapsed": false
   }
  }
 ],
 "metadata": {
  "kernelspec": {
   "display_name": "Python 3",
   "language": "python",
   "name": "python3"
  },
  "language_info": {
   "codemirror_mode": {
    "name": "ipython",
    "version": 2
   },
   "file_extension": ".py",
   "mimetype": "text/x-python",
   "name": "python",
   "nbconvert_exporter": "python",
   "pygments_lexer": "ipython2",
   "version": "2.7.6"
  }
 },
 "nbformat": 4,
 "nbformat_minor": 0
}
