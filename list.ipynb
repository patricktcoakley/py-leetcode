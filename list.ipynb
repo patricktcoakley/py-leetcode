{
 "cells": [
  {
   "cell_type": "code",
   "execution_count": null,
   "outputs": [],
   "source": [
    "# Imports\n",
    "\n",
    "from typing import Self"
   ],
   "metadata": {
    "collapsed": false
   }
  },
  {
   "cell_type": "code",
   "execution_count": 7,
   "outputs": [],
   "source": [
    "class ListNode:\n",
    "    next: Self | None\n",
    "    val: int\n",
    "\n",
    "    def __init__(self, val: int, next: Self | None = None):\n",
    "        self.val = val\n",
    "        self.next = next\n",
    "\n",
    "    def __hash__(self) -> int:\n",
    "        return hash((self.val, self.next))\n",
    "\n",
    "    def __eq__(self, other):\n",
    "        if not isinstance(other, ListNode | None):\n",
    "            return False\n",
    "        return self.val == other.val\n",
    "\n",
    "    @classmethod\n",
    "    def from_list(cls, vals: list[int]) -> Self | None:\n",
    "        if len(vals) == 0:\n",
    "            return None\n",
    "        head = ListNode(vals[0])\n",
    "        curr = head\n",
    "        for val in vals[1:]:\n",
    "            curr.next = ListNode(val)\n",
    "            curr = curr.next\n",
    "        return head\n",
    "\n",
    "    @classmethod\n",
    "    def from_list_with_cycle(cls, vals: list[int], origin: int, target: int) -> Self | None:\n",
    "        if len(vals) == 0:\n",
    "            return None\n",
    "        head = ListNode(0)\n",
    "        curr = head\n",
    "        to_node = from_node = None\n",
    "\n",
    "        for i, v in enumerate(vals):\n",
    "            curr.next = ListNode(v)\n",
    "            curr = curr.next\n",
    "\n",
    "            if i == target:\n",
    "                to_node = curr\n",
    "\n",
    "            if i == origin:\n",
    "                from_node = curr\n",
    "\n",
    "        curr = head\n",
    "\n",
    "        while curr:\n",
    "            if curr.val == from_node.val:\n",
    "                from_node.next = to_node\n",
    "                break\n",
    "            curr = curr.next\n",
    "\n",
    "        return head.next\n",
    "\n",
    "\n",
    "assert ListNode.from_list([]) is None\n",
    "assert ListNode.from_list([1]) == ListNode(1)\n",
    "assert ListNode.from_list([1, 2, 3]) == ListNode(1, ListNode(2, ListNode(3)))\n",
    "\n",
    "expected = ListNode(1)\n",
    "expected.next = expected\n",
    "cycle = ListNode.from_list_with_cycle([1], 0, 0)\n",
    "assert cycle == expected and cycle.next == expected.next\n",
    "\n",
    "expected = ListNode(1, ListNode(2))\n",
    "expected.next.next = expected\n",
    "cycle = ListNode.from_list_with_cycle([1, 2, 3], 1, 0)\n",
    "assert (cycle == expected and cycle.next == expected.next and cycle.next.next == expected.next.next)\n"
   ],
   "metadata": {
    "collapsed": false,
    "ExecuteTime": {
     "end_time": "2023-07-07T13:36:34.711994Z",
     "start_time": "2023-07-07T13:36:34.686303Z"
    }
   }
  },
  {
   "cell_type": "code",
   "execution_count": 8,
   "outputs": [],
   "source": [
    "# 141. Linked List Cycle\n",
    "\n",
    "def has_cycle(head: ListNode | None) -> bool:\n",
    "    if head is None:\n",
    "        return False\n",
    "\n",
    "    slow, fast = head, head.next\n",
    "\n",
    "    while fast and fast.next:\n",
    "        if slow == fast:\n",
    "            return True\n",
    "        slow = slow.next\n",
    "        fast = fast.next.next\n",
    "\n",
    "    return False\n",
    "\n",
    "\n",
    "assert has_cycle(ListNode.from_list_with_cycle([3, 2, 0, -4], 3, 1)) == True\n",
    "assert has_cycle(ListNode.from_list_with_cycle([1, 2], 1, 0)) == True\n",
    "assert has_cycle(ListNode(1)) == False\n"
   ],
   "metadata": {
    "collapsed": false,
    "ExecuteTime": {
     "end_time": "2023-07-07T13:36:39.262401Z",
     "start_time": "2023-07-07T13:36:39.260342Z"
    }
   }
  }
 ],
 "metadata": {
  "kernelspec": {
   "display_name": "Python 3",
   "language": "python",
   "name": "python3"
  },
  "language_info": {
   "codemirror_mode": {
    "name": "ipython",
    "version": 2
   },
   "file_extension": ".py",
   "mimetype": "text/x-python",
   "name": "python",
   "nbconvert_exporter": "python",
   "pygments_lexer": "ipython2",
   "version": "2.7.6"
  }
 },
 "nbformat": 4,
 "nbformat_minor": 0
}
